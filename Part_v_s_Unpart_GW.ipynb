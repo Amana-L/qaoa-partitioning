{
  "cells": [
    {
      "cell_type": "code",
      "execution_count": null,
      "metadata": {
        "id": "cfe-tF5rUZOn"
      },
      "outputs": [],
      "source": [
        "pip install networkx matplotlib numpy scikit-learn qiskit-optimization gurobipy cplex docplex pennylane --quiet"
      ]
    },
    {
      "cell_type": "code",
      "source": [
        "pip install qiskit==1.4.2"
      ],
      "metadata": {
        "id": "FlJL4tbAALpc"
      },
      "execution_count": null,
      "outputs": []
    },
    {
      "cell_type": "markdown",
      "metadata": {
        "id": "hMxS4OYpsT7N"
      },
      "source": [
        "# Sampling\n",
        "The MaxCut problem instances utilized in this analysis are sourced from the [HamLib](https://portal.nersc.gov/cfs/m888/dcamps/hamlib/) library. This collection encompasses a diverse range of graph topologies, including circulant graphs, bipartite graphs, $G_{n,p}$ random graphs, regular graphs and star graphs."
      ]
    },
    {
      "cell_type": "code",
      "execution_count": 2,
      "metadata": {
        "id": "xVhElhYFUh1K"
      },
      "outputs": [],
      "source": [
        "import zipfile\n",
        "import requests\n",
        "from io import BytesIO\n",
        "import h5py\n",
        "import networkx as nx\n",
        "import numpy as np\n",
        "\n",
        "url_circ = 'https://portal.nersc.gov/cfs/m888/dcamps/hamlib/binaryoptimization/maxcut/random/graphs/graph-circulant.zip'\n",
        "url_bipart = 'https://portal.nersc.gov/cfs/m888/dcamps/hamlib/binaryoptimization/maxcut/random/graphs/graph-complete_bipart.zip'\n",
        "\n",
        "url_gnp_k2 = 'https://portal.nersc.gov/cfs/m888/dcamps/hamlib/binaryoptimization/maxcut/random/graphs/graph-gnp_k-2.zip'\n",
        "url_gnp_k3 = 'https://portal.nersc.gov/cfs/m888/dcamps/hamlib/binaryoptimization/maxcut/random/graphs/graph-gnp_k-3.zip'\n",
        "url_gnp_k4 = 'https://portal.nersc.gov/cfs/m888/dcamps/hamlib/binaryoptimization/maxcut/random/graphs/graph-gnp_k-4.zip'\n",
        "url_gnp_k5 = 'https://portal.nersc.gov/cfs/m888/dcamps/hamlib/binaryoptimization/maxcut/random/graphs/graph-gnp_k-5.zip'\n",
        "\n",
        "url_reg_3 = 'https://portal.nersc.gov/cfs/m888/dcamps/hamlib/binaryoptimization/maxcut/random/graphs/graph-regular_reg-3.zip'\n",
        "url_reg_4 = 'https://portal.nersc.gov/cfs/m888/dcamps/hamlib/binaryoptimization/maxcut/random/graphs/graph-regular_reg-4.zip'\n",
        "url_reg_5 = 'https://portal.nersc.gov/cfs/m888/dcamps/hamlib/binaryoptimization/maxcut/random/graphs/graph-regular_reg-5.zip'\n",
        "url_reg_6 = 'https://portal.nersc.gov/cfs/m888/dcamps/hamlib/binaryoptimization/maxcut/random/graphs/graph-regular_reg-6.zip'\n",
        "\n",
        "url_star = 'https://portal.nersc.gov/cfs/m888/dcamps/hamlib/binaryoptimization/maxcut/random/graphs/graph-star.zip'\n",
        "\n",
        "url = [url_circ, url_bipart, url_gnp_k2, url_gnp_k3, url_gnp_k4, url_gnp_k5, url_reg_3, url_reg_4, url_reg_5, url_reg_6, url_star]"
      ]
    },
    {
      "cell_type": "markdown",
      "source": [
        "## Sampling all graph types\n"
      ],
      "metadata": {
        "id": "jp-6bWC_7jk7"
      }
    },
    {
      "cell_type": "code",
      "source": [
        "import random\n",
        "\n",
        "all_sampled_graphs = []\n",
        "\n",
        "for graph_type in url:\n",
        "    sampled_graphs = []\n",
        "    r = requests.get(graph_type, stream=True)\n",
        "    z = zipfile.ZipFile(BytesIO(r.content))\n",
        "    hdf5_filename = z.namelist()[0]\n",
        "    z.extract(hdf5_filename)\n",
        "\n",
        "    with h5py.File(hdf5_filename, 'r') as f:\n",
        "        dataset_keys = list(f.keys())\n",
        "        num_datasets = len(dataset_keys)\n",
        "\n",
        "        random_indices = random.sample(range(num_datasets), 5)\n",
        "\n",
        "        for index in random_indices:\n",
        "            graph = nx.Graph(list(np.array(f[dataset_keys[index]])))\n",
        "\n",
        "            if graph.number_of_nodes() <= 250 and graph.number_of_nodes() >= 4:\n",
        "                sampled_graphs.append(graph)\n",
        "\n",
        "    all_sampled_graphs.append(sampled_graphs)"
      ],
      "metadata": {
        "id": "ldaIZkBcvUWa"
      },
      "execution_count": 3,
      "outputs": []
    },
    {
      "cell_type": "markdown",
      "metadata": {
        "id": "xcMgSE29sPss"
      },
      "source": [
        "# 1. Classical Solvers WITHOUT Partitioning\n",
        "The subsequent code block defines a function designed to calculate the value of the MaxCut for a given graph."
      ]
    },
    {
      "cell_type": "code",
      "source": [
        "from qiskit_optimization.applications import Maxcut\n",
        "from qiskit_optimization.problems import QuadraticProgram\n",
        "from qiskit_optimization.algorithms import GurobiOptimizer\n",
        "from qiskit_optimization.algorithms import GoemansWilliamsonOptimizer\n",
        "from qiskit_optimization.algorithms import CplexOptimizer\n",
        "import numpy as np\n",
        "import networkx as nx\n",
        "\n",
        "\n",
        "def classical_solvers_without_partitioning(graph):\n",
        "    A = nx.to_numpy_array(graph)\n",
        "    max_cut = Maxcut(A)\n",
        "    qp = max_cut.to_quadratic_program()\n",
        "\n",
        "    optimizer = GoemansWilliamsonOptimizer(2)\n",
        "    gw_result = optimizer.solve(qp)\n",
        "    gw_cut_edges = 0\n",
        "    for u, v in graph.edges():\n",
        "        if gw_result.x[u] != gw_result.x[v]:\n",
        "            gw_cut_edges += 1\n",
        "    print(\"GW Done\")\n",
        "\n",
        "    #nx_cut_size, partition = nx.approximation.one_exchange(graph, seed=1)\n",
        "    #print(\"Nx Done\")\n",
        "\n",
        "    #optimizer = CplexOptimizer()\n",
        "    #cplex_result = optimizer.solve(qp)\n",
        "    #cplex_cut_edges = 0\n",
        "    #for u, v in graph.edges():\n",
        "    #    if cplex_result.x[u] != cplex_result.x[v]:\n",
        "    #        cplex_cut_edges += 1\n",
        "    #print(\"Cplex Done\")\n",
        "\n",
        "    #optimizer = GurobiOptimizer() if GurobiOptimizer.is_gurobi_installed() else None\n",
        "    #gurobi_result = optimizer.solve(qp)\n",
        "    #gurobi_cut_edges = 0\n",
        "    #for u, v in graph.edges():\n",
        "    #    if gurobi_result.x[u] != gurobi_result.x[v]:\n",
        "    #        gurobi_cut_edges += 1\n",
        "    #print(\"Gurobi Done\")\n",
        "    gurobi_cut_edges, cplex_cut_edges, nx_cut_size = 0, 0, 0\n",
        "\n",
        "    return gurobi_cut_edges, gw_cut_edges, cplex_cut_edges, nx_cut_size"
      ],
      "metadata": {
        "id": "gL-1wgz6shVT"
      },
      "execution_count": 7,
      "outputs": []
    },
    {
      "cell_type": "markdown",
      "metadata": {
        "id": "n3LnFFnBABGL"
      },
      "source": [
        "# 2. Classical Solvers WITH Partitioning\n",
        "\n",
        "In our analysis, we use the scalability of classical solvers, which are not constrained by qubit limitations inherent in quantum systems. As such, we define partition target sizes as a function of the total node count in the graph. The three target sizes employed are midpoint (half of total nodes), lower quartile (quarter of total nodes) and upper quartile (three-quarters of total nodes). This range of target sizes is selected to effectively demonstrate the performance spectrum across various partition sizes."
      ]
    },
    {
      "cell_type": "code",
      "execution_count": 8,
      "metadata": {
        "id": "Hvj-jGmFnYtM"
      },
      "outputs": [],
      "source": [
        "from qiskit_optimization.problems import QuadraticProgram\n",
        "from qiskit_optimization.algorithms import GurobiOptimizer\n",
        "from qiskit_optimization.algorithms import GoemansWilliamsonOptimizer\n",
        "from qiskit_optimization.algorithms import CplexOptimizer\n",
        "import numpy as np\n",
        "import networkx as nx\n",
        "from sklearn.cluster import SpectralClustering\n",
        "\n",
        "def cluster_graph(graph: nx.Graph, avg_partition_size=6.5) -> list[nx.Graph]:\n",
        "\n",
        "    subgraphs = []\n",
        "    n = len(graph.nodes())\n",
        "    total_edges = 0\n",
        "    no_of_clusters = int(n / avg_partition_size)\n",
        "\n",
        "    if no_of_clusters < 1:\n",
        "        no_of_clusters = 1\n",
        "    adj_matrix = nx.to_numpy_array(graph)\n",
        "\n",
        "    sc = SpectralClustering(n_clusters=no_of_clusters, affinity='precomputed')\n",
        "    partition = sc.fit_predict(adj_matrix)\n",
        "\n",
        "    for i in range(no_of_clusters):\n",
        "        subgraph = graph.subgraph([node for node, cluster in enumerate(partition) if cluster == i])\n",
        "        total_edges += subgraph.number_of_edges()\n",
        "        subgraphs.append(subgraph)\n",
        "\n",
        "    #print(f\"ATTENTION: Total edges are fewer than the original graph {total_edges}\")\n",
        "    edges_after_pruning = total_edges / graph.number_of_edges()\n",
        "\n",
        "    return subgraphs, edges_after_pruning\n",
        "\n",
        "def get_solution_from_cut_edges(each, index_map, solutions, result):\n",
        "    for node in each.nodes():\n",
        "        index = index_map[node]\n",
        "        if solutions[node] is None:\n",
        "            solutions[node] = int(result[index])\n",
        "        else:\n",
        "            count_0 = solutions.count(0)\n",
        "            count_1 = solutions.count(1)\n",
        "            if (count_0 > count_1 and solutions[node] == 0) or \\\n",
        "              (count_1 > count_0 and solutions[node] == 1) or \\\n",
        "              (count_0 == count_1):\n",
        "                solutions[node] = int(result[index])\n",
        "    return solutions\n",
        "\n",
        "def classical_solvers_with_partitioning(graph):\n",
        "    mid = int(round(graph.number_of_nodes() / 2))\n",
        "    low = int(round(graph.number_of_nodes() / 4))\n",
        "    high = int(round((3*graph.number_of_nodes()) / 4))\n",
        "    print(f\"low: {low}, mid: {mid}, high: {high}\")\n",
        "    target_sizes = [low, mid, high]\n",
        "    gurobi_cut_sizes = []\n",
        "    gw_cut_sizes = []\n",
        "    cplex_cut_sizes = []\n",
        "    nx_cut_sizes = []\n",
        "    edges_after_pruning = []\n",
        "\n",
        "    for target_size in target_sizes:\n",
        "        partitioning = cluster_graph(graph, target_size)\n",
        "        subgraphs = partitioning[0]\n",
        "        edges_after_pruning.append(partitioning[1])\n",
        "        num_nodes = graph.number_of_nodes()\n",
        "        solutions = [None] * num_nodes\n",
        "\n",
        "        for each in subgraphs:\n",
        "            print(each.nodes())\n",
        "            index_map = {node: idx for idx, node in enumerate(each.nodes())}\n",
        "            subgraph = nx.relabel_nodes(each, index_map)\n",
        "\n",
        "            A = nx.to_numpy_array(subgraph)\n",
        "            max_cut = Maxcut(A)\n",
        "            qp = max_cut.to_quadratic_program()\n",
        "\n",
        "            optimizer = GoemansWilliamsonOptimizer(2)\n",
        "            gw_result = optimizer.solve(qp).x\n",
        "\n",
        "            #optimizer = CplexOptimizer()\n",
        "            cplex_result = gw_result  #optimizer.solve(qp).x\n",
        "\n",
        "            #optimizer = GurobiOptimizer() if GurobiOptimizer.is_gurobi_installed() else None\n",
        "            gurobi_result = gw_result   #optimizer.solve(qp).x\n",
        "\n",
        "            #nx_cut_size, nx_result = nx.approximation.one_exchange(subgraph, seed=1)\n",
        "\n",
        "            get_solution_from_cut_edges(each, index_map, solutions, gurobi_result)\n",
        "            get_solution_from_cut_edges(each, index_map, solutions, gw_result)\n",
        "            get_solution_from_cut_edges(each, index_map, solutions, cplex_result)\n",
        "            #get_solution_from_cut_edges(each, index_map, solutions, nx_result)\n",
        "\n",
        "\n",
        "        def evaluate_cut_size(solutions, graph):\n",
        "            cut_edges = 0\n",
        "            for u, v in graph.edges():\n",
        "                if solutions[u] != solutions[v]:\n",
        "                    cut_edges += 1\n",
        "            return cut_edges\n",
        "\n",
        "        gurobi_cut_sizes.append(evaluate_cut_size(solutions, graph))\n",
        "        gw_cut_sizes.append(evaluate_cut_size(solutions, graph))\n",
        "        cplex_cut_sizes.append(evaluate_cut_size(solutions, graph))\n",
        "        #nx_cut_sizes.append(evaluate_cut_size(solutions, graph))\n",
        "\n",
        "    return gurobi_cut_sizes, gw_cut_sizes, cplex_cut_sizes, nx_cut_sizes, edges_after_pruning"
      ]
    },
    {
      "cell_type": "markdown",
      "metadata": {
        "id": "pggWPOKDc5rD"
      },
      "source": [
        "## Comparison of Classical Solvers with & w/o Partitioning"
      ]
    },
    {
      "cell_type": "code",
      "source": [
        "# Run to collect results\n",
        "results = {\n",
        "    'problem_size': [],\n",
        "    'gurobi_cut_sizes': [],\n",
        "    'gw_cut_sizes': [],\n",
        "    'cplex_cut_sizes': [],\n",
        "    'part_gurobi_cut_sizes': [[], [], []],  # For different partition sizes\n",
        "    'part_gw_cut_sizes': [[], [], []],\n",
        "    'part_cplex_cut_sizes': [[], [], []],\n",
        "    'edges_after_pruning': []\n",
        "}\n",
        "\n",
        "for lists in all_sampled_graphs:\n",
        "    for graph in lists:\n",
        "        size = graph.number_of_nodes()\n",
        "        results['problem_size'].append(size)\n",
        "\n",
        "        # Classical solvers with partitioning\n",
        "        cut_sizes_with_part = classical_solvers_with_partitioning(graph)\n",
        "        for i in range(3):  # Gurobi, GW, CPLEX\n",
        "            results[f'part_{[\"gurobi\", \"gw\", \"cplex\"][i]}_cut_sizes'][0].append(cut_sizes_with_part[i][0])\n",
        "            results[f'part_{[\"gurobi\", \"gw\", \"cplex\"][i]}_cut_sizes'][1].append(cut_sizes_with_part[i][1])\n",
        "            results[f'part_{[\"gurobi\", \"gw\", \"cplex\"][i]}_cut_sizes'][2].append(cut_sizes_with_part[i][2])\n",
        "        results['edges_after_pruning'].extend(cut_sizes_with_part[4])\n",
        "\n",
        "        # Classical solvers without partitioning\n",
        "        cut_sizes_wo_part = classical_solvers_without_partitioning(graph)\n",
        "        results['gurobi_cut_sizes'].append(cut_sizes_wo_part[0])\n",
        "        results['gw_cut_sizes'].append(cut_sizes_wo_part[1])\n",
        "        results['cplex_cut_sizes'].append(cut_sizes_wo_part[2])"
      ],
      "metadata": {
        "id": "vX-nfs10onOn"
      },
      "execution_count": null,
      "outputs": []
    },
    {
      "cell_type": "markdown",
      "source": [
        "# Split Results by Graph Type"
      ],
      "metadata": {
        "id": "OpR33t5_8sFY"
      }
    },
    {
      "cell_type": "code",
      "source": [
        "graph_type_lengths = [len(graphs) for graphs in all_sampled_graphs]\n",
        "cumulative_lengths = [sum(graph_type_lengths[:i+1]) for i in range(len(graph_type_lengths))]\n",
        "start_indices = [0] + cumulative_lengths[:-1]\n",
        "end_indices = cumulative_lengths\n",
        "\n",
        "split_results = {\n",
        "    'circulant': {},\n",
        "    'bipartite': {},\n",
        "    'gnp_k2': {},\n",
        "    'gnp_k3': {},\n",
        "    'gnp_k4': {},\n",
        "    'gnp_k5': {},\n",
        "    'reg_3': {},\n",
        "    'reg_4': {},\n",
        "    'reg_5': {},\n",
        "    'reg_6': {},\n",
        "    'star': {}\n",
        "}\n",
        "\n",
        "graph_types_keys = list(split_results.keys())\n",
        "\n",
        "for key in results:\n",
        "    if key.startswith('part_'):\n",
        "        for i in range(3):\n",
        "            split_results_list = []\n",
        "            current_start = 0\n",
        "            for length in graph_type_lengths:\n",
        "                current_end = current_start + length\n",
        "                split_results_list.append(results[key][i][current_start:current_end])\n",
        "                current_start = current_end\n",
        "\n",
        "            for j, graph_type_key in enumerate(graph_types_keys):\n",
        "                if key not in split_results[graph_type_key]:\n",
        "                    split_results[graph_type_key][key] = [[], [], []]\n",
        "                split_results[graph_type_key][key][i] = split_results_list[j]\n",
        "\n",
        "    elif key == 'edges_after_pruning':\n",
        "        split_results_list = []\n",
        "        current_start = 0\n",
        "        graph_type_indices_and_lengths = []\n",
        "        current_index = 0\n",
        "        for length in graph_type_lengths:\n",
        "            graph_type_indices_and_lengths.append((current_index, length * 3))\n",
        "            current_index += length * 3\n",
        "\n",
        "\n",
        "        for start_idx, length in graph_type_indices_and_lengths:\n",
        "             split_results_list.append(results[key][start_idx:start_idx + length])\n",
        "\n",
        "        for j, graph_type_key in enumerate(graph_types_keys):\n",
        "             split_results[graph_type_key][key] = split_results_list[j]\n",
        "\n",
        "\n",
        "    else:\n",
        "        split_results_list = []\n",
        "        current_start = 0\n",
        "        for length in graph_type_lengths:\n",
        "            current_end = current_start + length\n",
        "            split_results_list.append(results[key][current_start:current_end])\n",
        "            current_start = current_end\n",
        "\n",
        "        for j, graph_type_key in enumerate(graph_types_keys):\n",
        "            split_results[graph_type_key][key] = split_results_list[j]\n"
      ],
      "metadata": {
        "id": "v1OGIkZTZLub"
      },
      "execution_count": 11,
      "outputs": []
    },
    {
      "cell_type": "markdown",
      "source": [
        "# Data/Plot included in Paper"
      ],
      "metadata": {
        "id": "ZAGRtNgLHFcY"
      }
    },
    {
      "cell_type": "markdown",
      "source": [
        "## Goemans-Williamson (GW): Partitioned vs. Unpartitioned Ratio\n",
        "\n",
        "The subsequent code and visualizations aim to illustrate the impact of graph partitioning on the quality of the MaxCut solution when the same solver, the Goemans-Williamson (GW) algorithm, is applied to both the partitioned subproblems and the original, unpartitioned graph.\n",
        "\n",
        "The primary focus is to quantify how the act of partitioning affects the achieved cut size. Additionally, the markers used in the plots are designed to reveal how different graph topologies (e.g., circulant, bipartite, etc.) respond to the changes in the ratio of the cut size obtained from the partitioned approach versus the unpartitioned approach. This allows for an analysis of whether certain graph structures benefit more or less from the partitioning strategy when using a given solver.\n",
        "\n",
        "The data at the end is the one used in the paper."
      ],
      "metadata": {
        "id": "qhojML9NJ4uB"
      }
    },
    {
      "cell_type": "code",
      "source": [
        "circ_result = split_results['circulant']\n",
        "gnp_k3_result = split_results['gnp_k3']\n",
        "gnp_k5_result = split_results['gnp_k5']\n",
        "reg_4_result = split_results['reg_4']\n",
        "reg_6_result = split_results['reg_6']\n",
        "bipart_result = split_results['bipartite']\n",
        "star_result = split_results['star']"
      ],
      "metadata": {
        "id": "LMcOYaZwc6eu"
      },
      "execution_count": 14,
      "outputs": []
    },
    {
      "cell_type": "code",
      "source": [
        "# high\n",
        "results = reg_4_result\n",
        "reg_4_ratio_high = []\n",
        "for i in range(len(results['gw_cut_sizes'])):\n",
        "    ratio = results['part_gw_cut_sizes'][2][i] / results['gw_cut_sizes'][i]\n",
        "    reg_4_ratio_high.append(ratio)\n",
        "print(reg_4_ratio_high)\n",
        "\n",
        "results = reg_6_result\n",
        "reg_6_ratio_high = []\n",
        "for i in range(len(results['gw_cut_sizes'])):\n",
        "    ratio = results['part_gw_cut_sizes'][2][i] / results['gw_cut_sizes'][i]\n",
        "    reg_6_ratio_high.append(ratio)\n",
        "print(reg_6_ratio_high)\n",
        "\n",
        "results = bipart_result\n",
        "bipart_ratio_high = []\n",
        "for i in range(len(results['gw_cut_sizes'])):\n",
        "    ratio = results['part_gw_cut_sizes'][2][i] / results['gw_cut_sizes'][i]\n",
        "    bipart_ratio_high.append(ratio)\n",
        "print(bipart_ratio_high)\n",
        "\n",
        "results = star_result\n",
        "star_ratio_high = []\n",
        "for i in range(len(results['gw_cut_sizes'])):\n",
        "    ratio = results['part_gw_cut_sizes'][2][i] / results['gw_cut_sizes'][i]\n",
        "    star_ratio_high.append(ratio)\n",
        "print(star_ratio_high)\n",
        "\n",
        "results = circ_result\n",
        "circ_ratio_high = []\n",
        "for i in range(len(results['gw_cut_sizes'])):\n",
        "    ratio = results['part_gw_cut_sizes'][2][i] / results['gw_cut_sizes'][i]\n",
        "    circ_ratio_high.append(ratio)\n",
        "print(circ_ratio_high)\n",
        "\n",
        "results = gnp_k3_result\n",
        "gnp_k3_ratio_high = []\n",
        "for i in range(len(results['gw_cut_sizes'])):\n",
        "    ratio = results['part_gw_cut_sizes'][2][i] / results['gw_cut_sizes'][i]\n",
        "    gnp_k3_ratio_high.append(ratio)\n",
        "print(gnp_k3_ratio_high)\n",
        "\n",
        "results = gnp_k5_result\n",
        "gnp_k5_ratio_high = []\n",
        "for i in range(len(results['gw_cut_sizes'])):\n",
        "    ratio = results['part_gw_cut_sizes'][2][i] / results['gw_cut_sizes'][i]\n",
        "    gnp_k5_ratio_high.append(ratio)\n",
        "print(gnp_k5_ratio_high)"
      ],
      "metadata": {
        "colab": {
          "base_uri": "https://localhost:8080/"
        },
        "id": "XCQv7oT8IGa8",
        "outputId": "12bf60dd-5201-45bf-b8cb-c848763c824d"
      },
      "execution_count": 15,
      "outputs": [
        {
          "output_type": "stream",
          "name": "stdout",
          "text": [
            "[1.4545454545454546, 1.5, 1.4285714285714286, 1.6486486486486487, 2.176470588235294]\n",
            "[2.0, 1.0, 1.4695652173913043, 1.368421052631579, 1.411764705882353]\n",
            "[1.6, 1.198019801980198, 1.0867924528301887, 1.1107692307692307]\n",
            "[1.0, 1.0, 1.0, 1.0]\n",
            "[1.25, 1.0178571428571428, 1.125]\n",
            "[1.0, 1.0666666666666667, 1.44, 1.309192200557103]\n",
            "[1.1384615384615384, 1.207163601161665, 1.2611764705882353, 1.0, 1.0]\n"
          ]
        }
      ]
    },
    {
      "cell_type": "code",
      "source": [
        "# mid\n",
        "results = reg_4_result\n",
        "reg_4_ratio_mid = []\n",
        "for i in range(len(results['gw_cut_sizes'])):\n",
        "    ratio = results['part_gw_cut_sizes'][1][i] / results['gw_cut_sizes'][i]\n",
        "    reg_4_ratio_mid.append(ratio)\n",
        "print(reg_4_ratio_mid)\n",
        "\n",
        "results = reg_6_result\n",
        "reg_6_ratio_mid = []\n",
        "for i in range(len(results['gw_cut_sizes'])):\n",
        "    ratio = results['part_gw_cut_sizes'][1][i] / results['gw_cut_sizes'][i]\n",
        "    reg_6_ratio_mid.append(ratio)\n",
        "print(reg_6_ratio_mid)\n",
        "\n",
        "results = bipart_result\n",
        "bipart_ratio_mid = []\n",
        "for i in range(len(results['gw_cut_sizes'])):\n",
        "    ratio = results['part_gw_cut_sizes'][1][i] / results['gw_cut_sizes'][i]\n",
        "    bipart_ratio_mid.append(ratio)\n",
        "print(bipart_ratio_mid)\n",
        "\n",
        "results = star_result\n",
        "star_ratio_mid = []\n",
        "for i in range(len(results['gw_cut_sizes'])):\n",
        "    ratio = results['part_gw_cut_sizes'][1][i] / results['gw_cut_sizes'][i]\n",
        "    star_ratio_mid.append(ratio)\n",
        "print(star_ratio_mid)\n",
        "\n",
        "results = circ_result\n",
        "circ_ratio_mid = []\n",
        "for i in range(len(results['gw_cut_sizes'])):\n",
        "    ratio = results['part_gw_cut_sizes'][1][i] / results['gw_cut_sizes'][i]\n",
        "    circ_ratio_mid.append(ratio)\n",
        "print(circ_ratio_mid)\n",
        "\n",
        "results = gnp_k3_result\n",
        "gnp_k3_ratio_mid = []\n",
        "for i in range(len(results['gw_cut_sizes'])):\n",
        "    ratio = results['part_gw_cut_sizes'][1][i] / results['gw_cut_sizes'][i]\n",
        "    gnp_k3_ratio_mid.append(ratio)\n",
        "print(gnp_k3_ratio_mid)\n",
        "\n",
        "results = gnp_k5_result\n",
        "gnp_k5_ratio_mid = []\n",
        "for i in range(len(results['gw_cut_sizes'])):\n",
        "    ratio = results['part_gw_cut_sizes'][1][i] / results['gw_cut_sizes'][i]\n",
        "    gnp_k5_ratio_mid.append(ratio)\n",
        "print(gnp_k5_ratio_mid)"
      ],
      "metadata": {
        "colab": {
          "base_uri": "https://localhost:8080/"
        },
        "id": "vs_Ho6klIZ3N",
        "outputId": "168e1f03-3690-4c99-d961-1e9a13ca86eb"
      },
      "execution_count": 16,
      "outputs": [
        {
          "output_type": "stream",
          "name": "stdout",
          "text": [
            "[1.2272727272727273, 1.3333333333333333, 1.2142857142857142, 1.4864864864864864, 1.8235294117647058]\n",
            "[1.375, 1.0, 1.4086956521739131, 1.2982456140350878, 1.2352941176470589]\n",
            "[0.8, 1.198019801980198, 0.9962264150943396, 0.5784615384615385]\n",
            "[0.9928057553956835, 0.717948717948718, 0.9547738693467337, 0.7333333333333333]\n",
            "[1.25, 1.0178571428571428, 1.125]\n",
            "[1.0, 0.9111111111111111, 1.31, 1.1559888579387188]\n",
            "[1.123076923076923, 1.1335914811229428, 1.1541176470588235, 1.0, 1.0]\n"
          ]
        }
      ]
    },
    {
      "cell_type": "code",
      "source": [
        "# low\n",
        "results = reg_4_result\n",
        "reg_4_ratio_low = []\n",
        "for i in range(len(results['gw_cut_sizes'])):\n",
        "    ratio = results['part_gw_cut_sizes'][0][i] / results['gw_cut_sizes'][i]\n",
        "    reg_4_ratio_low.append(ratio)\n",
        "print(reg_4_ratio_low)\n",
        "\n",
        "results = reg_6_result\n",
        "reg_6_ratio_low = []\n",
        "for i in range(len(results['gw_cut_sizes'])):\n",
        "    ratio = results['part_gw_cut_sizes'][0][i] / results['gw_cut_sizes'][i]\n",
        "    reg_6_ratio_low.append(ratio)\n",
        "print(reg_6_ratio_low)\n",
        "\n",
        "results = bipart_result\n",
        "bipart_ratio_low = []\n",
        "for i in range(len(results['gw_cut_sizes'])):\n",
        "    ratio = results['part_gw_cut_sizes'][0][i] / results['gw_cut_sizes'][i]\n",
        "    bipart_ratio_low.append(ratio)\n",
        "print(bipart_ratio_low)\n",
        "\n",
        "results = star_result\n",
        "star_ratio_low = []\n",
        "for i in range(len(results['gw_cut_sizes'])):\n",
        "    ratio = results['part_gw_cut_sizes'][0][i] / results['gw_cut_sizes'][i]\n",
        "    star_ratio_low.append(ratio)\n",
        "print(star_ratio_low)\n",
        "\n",
        "results = circ_result\n",
        "circ_ratio_low = []\n",
        "for i in range(len(results['gw_cut_sizes'])):\n",
        "    ratio = results['part_gw_cut_sizes'][0][i] / results['gw_cut_sizes'][i]\n",
        "    circ_ratio_low.append(ratio)\n",
        "print(circ_ratio_low)\n",
        "\n",
        "results = gnp_k3_result\n",
        "gnp_k3_ratio_low = []\n",
        "for i in range(len(results['gw_cut_sizes'])):\n",
        "    ratio = results['part_gw_cut_sizes'][0][i] / results['gw_cut_sizes'][i]\n",
        "    gnp_k3_ratio_low.append(ratio)\n",
        "print(gnp_k3_ratio_low)\n",
        "\n",
        "results = gnp_k5_result\n",
        "gnp_k5_ratio_low = []\n",
        "for i in range(len(results['gw_cut_sizes'])):\n",
        "    ratio = results['part_gw_cut_sizes'][0][i] / results['gw_cut_sizes'][i]\n",
        "    gnp_k5_ratio_low.append(ratio)\n",
        "print(gnp_k5_ratio_low)"
      ],
      "metadata": {
        "colab": {
          "base_uri": "https://localhost:8080/"
        },
        "id": "5rYweY8zIdHo",
        "outputId": "0f825944-c181-4f24-80c6-a7cd13bbdab3"
      },
      "execution_count": 17,
      "outputs": [
        {
          "output_type": "stream",
          "name": "stdout",
          "text": [
            "[1.1363636363636365, 0.8333333333333334, 1.0, 1.364864864864865, 1.588235294117647]\n",
            "[1.5, 0.8333333333333334, 1.3304347826086957, 1.105263157894737, 1.1176470588235294]\n",
            "[0.8, 0.9801980198019802, 0.7547169811320755, 1.0523076923076924]\n",
            "[0.7266187050359713, 0.48717948717948717, 0.8341708542713567, 0.3333333333333333]\n",
            "[1.0, 1.0, 1.125]\n",
            "[0.0, 0.8444444444444444, 1.15, 1.0696378830083566]\n",
            "[1.0461538461538462, 1.054211035818006, 1.1364705882352941, 1.0, 0.0]\n"
          ]
        }
      ]
    },
    {
      "cell_type": "code",
      "source": [
        "circ_problem_size = circ_result['problem_size']\n",
        "gnp_k3_problem_size = gnp_k3_result['problem_size']\n",
        "gnp_k5_problem_size = gnp_k5_result['problem_size']\n",
        "reg_4_problem_size = reg_4_result['problem_size']\n",
        "reg_6_problem_size = reg_6_result['problem_size']\n",
        "bipart_problem_size = bipart_result['problem_size']\n",
        "star_problem_size = star_result['problem_size']"
      ],
      "metadata": {
        "id": "QVYvv1HD9R9w"
      },
      "execution_count": 18,
      "outputs": []
    },
    {
      "cell_type": "code",
      "source": [
        "import matplotlib.pyplot as plt\n",
        "\n",
        "# Create separate figures for each plot\n",
        "fig1, ax1 = plt.subplots(figsize=(10, 6))  # Figure for 'Partitioned to upper quartile size'\n",
        "fig2, ax2 = plt.subplots(figsize=(10, 6))  # Figure for 'Partitioned to median size'\n",
        "fig3, ax3 = plt.subplots(figsize=(10, 6))  # Figure for 'Partitioned to lower quartile size'\n",
        "\n",
        "# Plot 1 (Upper Quartile)\n",
        "ax1.scatter(circ_problem_size, circ_ratio_high, label='circulant', color='coral', marker='o')\n",
        "ax1.scatter(gnp_k3_problem_size, gnp_k3_ratio_high, label='gnp_k3', color='crimson', marker='^')\n",
        "ax1.scatter(gnp_k5_problem_size, gnp_k5_ratio_high, label='gnp_k5', color='firebrick', marker='^')\n",
        "ax1.scatter(reg_4_problem_size, reg_4_ratio_high, label='reg_4', color='limegreen', marker='x')\n",
        "ax1.scatter(reg_6_problem_size, reg_6_ratio_high, label='reg_6', color='darkgreen', marker='x')\n",
        "ax1.scatter(bipart_problem_size, bipart_ratio_high, label='bipart', color='royalblue', marker='+')\n",
        "ax1.scatter(star_problem_size, star_ratio_high, label='star', color='purple', marker='s')\n",
        "#ax1.legend(title='Graph Types')\n",
        "ax1.set_ylabel('Partitioned / Unpartitioned Cut Ratio')\n",
        "ax1.grid(True)\n",
        "ax1.set_xlabel('Problem Size')\n",
        "ax1.set_title('Partitioned to upper quartile size')\n",
        "ax1.set_ylim(0.4, 2.2)\n",
        "\n",
        "# Plot 2 (Median)\n",
        "ax2.scatter(circ_problem_size, circ_ratio_mid, label='circulant', color='coral', marker='o')\n",
        "ax2.scatter(gnp_k3_problem_size, gnp_k3_ratio_mid, label='gnp_k3', color='crimson', marker='^')\n",
        "ax2.scatter(gnp_k5_problem_size, gnp_k5_ratio_mid, label='gnp_k5', color='firebrick', marker='^')\n",
        "ax2.scatter(reg_4_problem_size, reg_4_ratio_mid, label='reg_4', color='limegreen', marker='x')\n",
        "ax2.scatter(reg_6_problem_size, reg_6_ratio_mid, label='reg_6', color='darkgreen', marker='x')\n",
        "ax2.scatter(bipart_problem_size, bipart_ratio_mid, label='bipart', color='royalblue', marker='+')\n",
        "ax2.scatter(star_problem_size, star_ratio_mid, label='star', color='purple', marker='s')\n",
        "ax2.set_ylabel('Partitioned / Unpartitioned Cut Ratio')\n",
        "ax2.grid(True)\n",
        "ax2.set_xlabel('Problem Size')\n",
        "ax2.set_title('Partitioned to median size')\n",
        "ax2.set_ylim(0.4, 2.2)\n",
        "\n",
        "# Plot 3 (Lower Quartile)\n",
        "ax3.scatter(circ_problem_size, circ_ratio_low, label='circulant', color='coral', marker='o')\n",
        "ax3.scatter(gnp_k3_problem_size, gnp_k3_ratio_low, label='gnp_k3', color='crimson', marker='^')\n",
        "ax3.scatter(gnp_k5_problem_size, gnp_k5_ratio_low, label='gnp_k5', color='firebrick', marker='^')\n",
        "ax3.scatter(reg_4_problem_size, reg_4_ratio_low, label='reg_4', color='limegreen', marker='x')\n",
        "ax3.scatter(reg_6_problem_size, reg_6_ratio_low, label='reg_6', color='darkgreen', marker='x')\n",
        "ax3.scatter(bipart_problem_size, bipart_ratio_low, label='bipart', color='royalblue', marker='+')\n",
        "ax3.scatter(star_problem_size, star_ratio_low, label='star', color='purple', marker='s')\n",
        "ax3.set_ylabel('Partitioned / Unpartitioned Cut Ratio')\n",
        "ax3.grid(True)\n",
        "ax3.set_xlabel('Problem Size')\n",
        "ax3.set_title('Partitioned to lower quartile size')\n",
        "ax3.set_ylim(0.4, 2.2)\n",
        "\n",
        "plt.show()"
      ],
      "metadata": {
        "colab": {
          "base_uri": "https://localhost:8080/",
          "height": 1000
        },
        "id": "-Ehq_SHfIflI",
        "outputId": "ec78c269-8b4d-4968-a8eb-0e1e285ca673"
      },
      "execution_count": 19,
      "outputs": [
        {
          "output_type": "display_data",
          "data": {
            "text/plain": [
              "<Figure size 1000x600 with 1 Axes>"
            ],
            "image/png": "[encoded data removed]"
          },
          "metadata": {}
        },
        {
          "output_type": "display_data",
          "data": {
            "text/plain": [
              "<Figure size 1000x600 with 1 Axes>"
            ],
            "image/png": "[encoded data removed]"
          },
          "metadata": {}
        },
        {
          "output_type": "display_data",
          "data": {
            "text/plain": [
              "<Figure size 1000x600 with 1 Axes>"
            ],
            "image/png": "[encoded data removed]"
          },
          "metadata": {}
        }
      ]
    },
    {
      "cell_type": "code",
      "source": [
        "circ_result = {'problem_size': [130, 200, 20, 8, 6], 'gurobi_cut_sizes': [190, 298, 26, 8, 6], 'gw_cut_sizes': [180, 280, 24, 8, 6], 'cplex_cut_sizes': [194, 296, 28, 8, 8], 'part_gurobi_cut_sizes': [[182, 294, 26, 6, 8], [188, 282, 28, 10, 8], [184, 278, 28, 16, 8]], 'part_gw_cut_sizes': [[182, 294, 26, 6, 8], [188, 282, 28, 10, 8], [184, 278, 28, 16, 8]], 'part_cplex_cut_sizes': [[182, 294, 26, 6, 8], [188, 282, 28, 10, 8], [184, 278, 28, 16, 8]], 'edges_after_pruning': [0.9538461538461539, 0.9769230769230769, 1.0, 0.97, 0.985, 1.0, 0.6, 0.8, 1.0, 0.3125, 0.5, 1.0, 0.16666666666666666, 0.6666666666666666, 1.0]}\n",
        "gnp_k3_result = {'problem_size': [160, 14, 18, 120, 46], 'gurobi_cut_sizes': [0, 0, 0, 0, 0], 'gw_cut_sizes': [606, 26, 37, 421, 145], 'cplex_cut_sizes': [0, 0, 0, 0, 0], 'part_gurobi_cut_sizes': [[715, 26, 45, 470, 162], [732, 24, 50, 493, 178], [774, 35, 52, 539, 189]], 'part_gw_cut_sizes': [[715, 26, 45, 470, 162], [732, 24, 50, 493, 178], [774, 35, 52, 539, 189]], 'part_cplex_cut_sizes': [[715, 26, 45, 470, 162], [732, 24, 50, 493, 178], [774, 35, 52, 539, 189]], 'edges_after_pruning': [0.27591973244147155, 0.5359531772575251, 1.0, 0.2222222222222222, 0.4222222222222222, 1.0, 0.24324324324324326, 0.5945945945945946, 1.0, 0.24580335731414868, 0.4676258992805755, 1.0, 0.3308550185873606, 0.49814126394052044, 1.0]}\n",
        "gnp_k5_result = {'problem_size': [120, 200, 42, 38], 'gurobi_cut_sizes': [0, 0, 0, 0], 'gw_cut_sizes': [681, 1333, 193, 163], 'cplex_cut_sizes': [0, 0, 0, 0], 'part_gurobi_cut_sizes': [[777, 1468, 214, 196], [821, 1594, 224, 204], [860, 1614, 237, 206]], 'part_gw_cut_sizes': [[777, 1468, 214, 196], [821, 1594, 224, 204], [860, 1614, 237, 206]], 'part_cplex_cut_sizes': [[777, 1468, 214, 196], [821, 1594, 224, 204], [860, 1614, 237, 206]], 'edges_after_pruning': [0.26993416239941476, 0.5786393562545721, 1.0, 0.23453510436432637, 0.5089184060721063, 1.0, 0.26842105263157895, 0.5289473684210526, 1.0, 0.31547619047619047, 0.4851190476190476, 1.0]}\n",
        "reg_4_result = {'problem_size': [160, 36, 38, 140], 'gurobi_cut_sizes': [0, 0, 0, 0], 'gw_cut_sizes': [172, 48, 38, 134], 'cplex_cut_sizes': [0, 0, 0, 0], 'part_gurobi_cut_sizes': [[200, 44, 44, 172], [230, 48, 58, 206], [268, 58, 58, 232]], 'part_gw_cut_sizes': [[200, 44, 44, 172], [230, 48, 58, 206], [268, 58, 58, 232]], 'part_cplex_cut_sizes': [[200, 44, 44, 172], [230, 48, 58, 206], [268, 58, 58, 232]], 'edges_after_pruning': [0.290625, 0.45625, 1.0, 0.25, 0.4722222222222222, 1.0, 0.25, 0.47368421052631576, 1.0, 0.29285714285714287, 0.5071428571428571, 1.0]}\n",
        "reg_6_result = {'problem_size': [130, 24, 8, 14], 'gurobi_cut_sizes': [0, 0, 0, 0], 'gw_cut_sizes': [200, 40, 12, 22], 'cplex_cut_sizes': [0, 0, 0, 0], 'part_gurobi_cut_sizes': [[240, 40, 14, 24], [270, 46, 14, 28], [292, 50, 16, 32]], 'part_gw_cut_sizes': [[240, 40, 14, 24], [270, 46, 14, 28], [292, 50, 16, 32]], 'part_cplex_cut_sizes': [[240, 40, 14, 24], [270, 46, 14, 28], [292, 50, 16, 32]], 'edges_after_pruning': [0.24102564102564103, 0.5794871794871795, 1.0, 0.2222222222222222, 0.5555555555555556, 1.0, 0.20833333333333334, 0.75, 1.0, 0.30952380952380953, 0.42857142857142855, 1.0]}\n",
        "bipart_result = {'problem_size': [9, 180, 36, 7, 40], 'gurobi_cut_sizes': [0, 0, 0, 0, 0], 'gw_cut_sizes': [11, 7922, 290, 6, 362], 'cplex_cut_sizes': [0, 0, 0, 0, 0], 'part_gurobi_cut_sizes': [[10, 5200, 162, 3, 248], [20, 8100, 186, 12, 224], [20, 8100, 324, 12, 400]], 'part_gw_cut_sizes': [[10, 5200, 162, 3, 248], [20, 8100, 186, 12, 224], [20, 8100, 324, 12, 400]], 'part_cplex_cut_sizes': [[10, 5200, 162, 3, 248], [20, 8100, 186, 12, 224], [20, 8100, 324, 12, 400]], 'edges_after_pruning': [0.3, 0.45, 1.0, 0.5666666666666667, 0.8022222222222222, 1.0, 0.2808641975308642, 0.5740740740740741, 1.0, 0.16666666666666666, 1.0, 1.0, 0.5825, 0.56, 1.0]}\n",
        "star_result = {'problem_size': [160, 80, 36, 22, 7, 90], 'gurobi_cut_sizes': [0, 0, 0, 0, 0, 0], 'gw_cut_sizes': [159, 79, 35, 21, 6, 89], 'cplex_cut_sizes': [0, 0, 0, 0, 0, 0], 'part_gurobi_cut_sizes': [[146, 49, 30, 13, 4, 73], [156, 74, 30, 20, 6, 72], [159, 79, 35, 21, 6, 89]], 'part_gw_cut_sizes': [[146, 49, 30, 13, 4, 73], [156, 74, 30, 20, 6, 72], [159, 79, 35, 21, 6, 89]], 'part_cplex_cut_sizes': [[146, 49, 30, 13, 4, 73], [156, 74, 30, 20, 6, 72], [159, 79, 35, 21, 6, 89]], 'edges_after_pruning': [0.89937106918239, 0.9811320754716981, 1.0, 0.4810126582278481, 0.9240506329113924, 1.0, 0.8571428571428571, 0.8285714285714286, 1.0, 0.6190476190476191, 0.9523809523809523, 1.0, 0.6666666666666666, 1.0, 1.0, 0.7865168539325843, 0.7303370786516854, 1.0]}\n"
      ],
      "metadata": {
        "id": "fEVDgxuoHRBK"
      },
      "execution_count": 9,
      "outputs": []
    }
  ],
  "metadata": {
    "colab": {
      "provenance": []
    },
    "kernelspec": {
      "display_name": "Python 3",
      "name": "python3"
    },
    "language_info": {
      "name": "python"
    }
  },
  "nbformat": 4,
  "nbformat_minor": 0
}