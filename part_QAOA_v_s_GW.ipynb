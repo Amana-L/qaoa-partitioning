{
  "nbformat": 4,
  "nbformat_minor": 0,
  "metadata": {
    "colab": {
      "provenance": []
    },
    "kernelspec": {
      "name": "python3",
      "display_name": "Python 3"
    },
    "language_info": {
      "name": "python"
    }
  },
  "cells": [
    {
      "cell_type": "code",
      "execution_count": 11,
      "metadata": {
        "id": "XJ3jAV7i3p1L"
      },
      "outputs": [],
      "source": [
        "pip install networkx matplotlib numpy scikit-learn qiskit-optimization gurobipy cplex docplex pennylane --quiet"
      ]
    },
    {
      "cell_type": "code",
      "source": [
        "pip install qiskit==1.4.2"
      ],
      "metadata": {
        "id": "nsC7ikPv3ukP"
      },
      "execution_count": null,
      "outputs": []
    },
    {
      "cell_type": "markdown",
      "source": [
        "# Sampling\n",
        "The MaxCut problem instances utilized in this analysis are sourced from the [HamLib](https://portal.nersc.gov/cfs/m888/dcamps/hamlib/) library. This collection encompasses a diverse range of graph topologies, including circulant graphs, bipartite graphs, $G_{n,p}$ random graphs, regular graphs and star graphs."
      ],
      "metadata": {
        "id": "mVbFms6Q3z1Q"
      }
    },
    {
      "cell_type": "code",
      "source": [
        "import zipfile\n",
        "import requests\n",
        "from io import BytesIO\n",
        "import h5py\n",
        "import networkx as nx\n",
        "import numpy as np\n",
        "\n",
        "url_circ = 'https://portal.nersc.gov/cfs/m888/dcamps/hamlib/binaryoptimization/maxcut/random/graphs/graph-circulant.zip'\n",
        "url_bipart = 'https://portal.nersc.gov/cfs/m888/dcamps/hamlib/binaryoptimization/maxcut/random/graphs/graph-complete_bipart.zip'\n",
        "\n",
        "url_gnp_k2 = 'https://portal.nersc.gov/cfs/m888/dcamps/hamlib/binaryoptimization/maxcut/random/graphs/graph-gnp_k-2.zip'\n",
        "url_gnp_k3 = 'https://portal.nersc.gov/cfs/m888/dcamps/hamlib/binaryoptimization/maxcut/random/graphs/graph-gnp_k-3.zip'\n",
        "url_gnp_k4 = 'https://portal.nersc.gov/cfs/m888/dcamps/hamlib/binaryoptimization/maxcut/random/graphs/graph-gnp_k-4.zip'\n",
        "url_gnp_k5 = 'https://portal.nersc.gov/cfs/m888/dcamps/hamlib/binaryoptimization/maxcut/random/graphs/graph-gnp_k-5.zip'\n",
        "\n",
        "url_reg_3 = 'https://portal.nersc.gov/cfs/m888/dcamps/hamlib/binaryoptimization/maxcut/random/graphs/graph-regular_reg-3.zip'\n",
        "url_reg_4 = 'https://portal.nersc.gov/cfs/m888/dcamps/hamlib/binaryoptimization/maxcut/random/graphs/graph-regular_reg-4.zip'\n",
        "url_reg_5 = 'https://portal.nersc.gov/cfs/m888/dcamps/hamlib/binaryoptimization/maxcut/random/graphs/graph-regular_reg-5.zip'\n",
        "url_reg_6 = 'https://portal.nersc.gov/cfs/m888/dcamps/hamlib/binaryoptimization/maxcut/random/graphs/graph-regular_reg-6.zip'\n",
        "\n",
        "url_star = 'https://portal.nersc.gov/cfs/m888/dcamps/hamlib/binaryoptimization/maxcut/random/graphs/graph-star.zip'\n",
        "\n",
        "url = [url_circ, url_bipart, url_gnp_k2, url_gnp_k3, url_gnp_k4, url_gnp_k5, url_reg_3, url_reg_4, url_reg_5, url_reg_6, url_star]"
      ],
      "metadata": {
        "id": "sw9NzGNa3v-Y"
      },
      "execution_count": 3,
      "outputs": []
    },
    {
      "cell_type": "markdown",
      "source": [
        "## Sampling single graph type\n"
      ],
      "metadata": {
        "id": "4g8P8txY4L2H"
      }
    },
    {
      "cell_type": "code",
      "source": [
        "import random\n",
        "\n",
        "all_sampled_graphs = []\n",
        "\n",
        "sampled_graphs = []\n",
        "r = requests.get(url[0], stream=True)           # choose graph type here\n",
        "z = zipfile.ZipFile(BytesIO(r.content))\n",
        "hdf5_filename = z.namelist()[0]\n",
        "z.extract(hdf5_filename)\n",
        "\n",
        "with h5py.File(hdf5_filename, 'r') as f:\n",
        "    dataset_keys = list(f.keys())\n",
        "    num_datasets = len(dataset_keys)\n",
        "\n",
        "    random_indices = random.sample(range(num_datasets), 5)\n",
        "\n",
        "    for index in random_indices:\n",
        "        graph = nx.Graph(list(np.array(f[dataset_keys[index]])))\n",
        "\n",
        "        if graph.number_of_nodes() <= 2500 and graph.number_of_nodes() >= 10:\n",
        "            sampled_graphs.append(graph)\n",
        "\n",
        "all_sampled_graphs.append(sampled_graphs)\n",
        "all_sampled_graphs = all_sampled_graphs[0]"
      ],
      "metadata": {
        "id": "sl3xgy_83_rc"
      },
      "execution_count": 4,
      "outputs": []
    },
    {
      "cell_type": "markdown",
      "source": [
        "# Classical Solvers WITHOUT Partitioning"
      ],
      "metadata": {
        "id": "9EH9CkK25wWq"
      }
    },
    {
      "cell_type": "code",
      "source": [
        "from qiskit_optimization.applications import Maxcut\n",
        "from qiskit_optimization.problems import QuadraticProgram\n",
        "from qiskit_optimization.algorithms import GurobiOptimizer\n",
        "from qiskit_optimization.algorithms import GoemansWilliamsonOptimizer\n",
        "from qiskit_optimization.algorithms import CplexOptimizer\n",
        "import numpy as np\n",
        "import networkx as nx\n",
        "\n",
        "\n",
        "def classical_solvers_without_partitioning(graph):\n",
        "    A = nx.to_numpy_array(graph)\n",
        "    max_cut = Maxcut(A)\n",
        "    qp = max_cut.to_quadratic_program()\n",
        "\n",
        "    optimizer = GoemansWilliamsonOptimizer(2)\n",
        "    gw_result = optimizer.solve(qp)\n",
        "    gw_cut_edges = 0\n",
        "    for u, v in graph.edges():\n",
        "        if gw_result.x[u] != gw_result.x[v]:\n",
        "            gw_cut_edges += 1\n",
        "    print(\"GW Done\")\n",
        "\n",
        "    #nx_cut_size, partition = nx.approximation.one_exchange(graph, seed=1)\n",
        "    #print(\"Nx Done\")\n",
        "\n",
        "    #optimizer = CplexOptimizer()\n",
        "    #cplex_result = optimizer.solve(qp)\n",
        "    #cplex_cut_edges = 0\n",
        "    #for u, v in graph.edges():\n",
        "    #    if cplex_result.x[u] != cplex_result.x[v]:\n",
        "    #        cplex_cut_edges += 1\n",
        "    #print(\"Cplex Done\")\n",
        "\n",
        "    #optimizer = GurobiOptimizer() if GurobiOptimizer.is_gurobi_installed() else None\n",
        "    #gurobi_result = optimizer.solve(qp)\n",
        "    #gurobi_cut_edges = 0\n",
        "    #for u, v in graph.edges():\n",
        "    #    if gurobi_result.x[u] != gurobi_result.x[v]:\n",
        "    #        gurobi_cut_edges += 1\n",
        "    #print(\"Gurobi Done\")\n",
        "    gurobi_cut_edges, cplex_cut_edges, nx_cut_size = 0, 0, 0\n",
        "\n",
        "    return gurobi_cut_edges, gw_cut_edges, cplex_cut_edges, nx_cut_size"
      ],
      "metadata": {
        "id": "xjsYVYvJ5caG"
      },
      "execution_count": 5,
      "outputs": []
    },
    {
      "cell_type": "markdown",
      "source": [
        "# Quantum Solver WITH Partitioning\n",
        "The following code segment implements a strategy to tackle the MaxCut problem on potentially large constraint graphs. It begins by partitioning the original graph into smaller, more manageable subgraphs. Subsequently, for each of these subgraphs, it employs the Quantum Approximate Optimization Algorithm (QAOA) solver, using the PennyLane simulator as the quantum computational backend."
      ],
      "metadata": {
        "id": "UwZ15Dpt4Tfi"
      }
    },
    {
      "cell_type": "code",
      "source": [
        "import pennylane as qml\n",
        "from pennylane import numpy as np\n",
        "from pennylane import qaoa\n",
        "\n",
        "from sklearn.cluster import SpectralClustering\n",
        "import networkx as nx\n",
        "\n",
        "def run_qaoa(graph, index_map):\n",
        "\n",
        "    # problem set up\n",
        "    cost, mixer = qaoa.maxcut(graph)\n",
        "\n",
        "    if graph.number_of_edges() == 0:\n",
        "\n",
        "        # If no edges, create cost Hamiltonian with RZ gates\n",
        "        num_qubits = len(index_map)\n",
        "        cost = qml.Hamiltonian(\n",
        "            [-1.0] * num_qubits,\n",
        "            [qml.PauliZ(i) for i in range(num_qubits)]  # RZ gates on each qubit\n",
        "        )\n",
        "\n",
        "    wires = list(index_map.values())\n",
        "    depth = 2\n",
        "    params = 0.01 * np.random.rand(2, depth)\n",
        "    params = np.array(params, requires_grad=True)\n",
        "\n",
        "    def qaoa_layer(gamma, alpha):\n",
        "        qaoa.cost_layer(gamma, cost)\n",
        "        qaoa.mixer_layer(alpha, mixer)\n",
        "\n",
        "    def circuit(params, **kwargs):\n",
        "        for w in wires:\n",
        "            qml.Hadamard(wires=w)\n",
        "        qml.layer(qaoa_layer, depth, params[0], params[1])\n",
        "\n",
        "    dev = qml.device(\"default.qubit\", wires=wires)\n",
        "\n",
        "    # optimise\n",
        "    @qml.qnode(dev)\n",
        "    def cost_function(params):\n",
        "        circuit(params)\n",
        "        return qml.expval(cost)\n",
        "\n",
        "    optimizer = qml.AdagradOptimizer(stepsize=0.5)\n",
        "    steps = 30\n",
        "\n",
        "    for i in range(steps):\n",
        "        params = optimizer.step(cost_function, params)\n",
        "\n",
        "    # find probabilities of optimal params\n",
        "    @qml.qnode(dev)\n",
        "    def probability_circuit(gamma, alpha):\n",
        "        circuit(params)\n",
        "        return qml.probs(wires=wires)\n",
        "\n",
        "    # compute optimal 1) evaluation value 2) probability distribtuion\n",
        "    eval = cost_function(params)\n",
        "    probs = probability_circuit(params[0], params[1])\n",
        "\n",
        "    def int_to_binary(n):\n",
        "        return bin(n)[2:]\n",
        "    max_index = qml.numpy.argmax(probs)\n",
        "    max_index_int = int(max_index)\n",
        "    bit_representation = int_to_binary(max_index_int).zfill(len(wires))\n",
        "\n",
        "    return bit_representation, eval\n",
        "\n",
        "\n",
        "def cluster_graph(graph: nx.Graph, avg_partition_size=6.5) -> list[nx.Graph]:\n",
        "\n",
        "    subgraphs = []\n",
        "    n = len(graph.nodes())\n",
        "    total_edges = 0\n",
        "    no_of_clusters = int(n / avg_partition_size)\n",
        "\n",
        "    if no_of_clusters < 1:\n",
        "        no_of_clusters = 1\n",
        "    adj_matrix = nx.to_numpy_array(graph)\n",
        "\n",
        "    sc = SpectralClustering(n_clusters=no_of_clusters, affinity='precomputed')\n",
        "    partition = sc.fit_predict(adj_matrix)\n",
        "\n",
        "    for i in range(no_of_clusters):\n",
        "        subgraph = graph.subgraph([node for node, cluster in enumerate(partition) if cluster == i])\n",
        "        total_edges += subgraph.number_of_edges()\n",
        "        subgraphs.append(subgraph)\n",
        "        print(subgraph.nodes())\n",
        "\n",
        "    #print(f\"ATTENTION: Total edges are fewer than the original graph {total_edges}\")\n",
        "    edges_after_pruning = total_edges / graph.number_of_edges()\n",
        "\n",
        "    return subgraphs, edges_after_pruning\n",
        "\n",
        "def quantum_solver_with_partitioning(graph):\n",
        "    target_sizes = [6, 10, 14]\n",
        "    cut_sizes = []\n",
        "    edges_after_pruning = []\n",
        "    for target_size in target_sizes:\n",
        "        partitioning = cluster_graph(graph, target_size)\n",
        "        #print(partitioning)\n",
        "        subgraphs = partitioning[0]\n",
        "        edges_after_pruning.append(partitioning[1])\n",
        "        num_nodes = graph.number_of_nodes()\n",
        "        solutions = [0] * num_nodes\n",
        "        for each in subgraphs:\n",
        "            index_map = {node: idx for idx, node in enumerate(each.nodes())}\n",
        "            subgraph = nx.relabel_nodes(each, index_map)\n",
        "            result = run_qaoa(subgraph, index_map)\n",
        "            probs = result[0]\n",
        "            eval = result[1]\n",
        "            print(probs)\n",
        "            for node in each.nodes():\n",
        "                index = index_map[node]\n",
        "                if solutions[node] is None:\n",
        "                    solutions[node] = int(probs[index])\n",
        "                else:\n",
        "                    count_0 = solutions.count(0)\n",
        "                    count_1 = solutions.count(1)\n",
        "                    if (count_0 > count_1 and solutions[node] == 0) or \\\n",
        "                      (count_1 > count_0 and solutions[node] == 1) or \\\n",
        "                      (count_0 == count_1):\n",
        "                        solutions[node] = int(probs[index])\n",
        "\n",
        "        cut_edges = 0\n",
        "        for u, v in graph.edges():\n",
        "            if solutions[u] != solutions[v]:\n",
        "                cut_edges += 1\n",
        "        cut_sizes.append(cut_edges)\n",
        "\n",
        "    return cut_sizes, edges_after_pruning"
      ],
      "metadata": {
        "colab": {
          "base_uri": "https://localhost:8080/"
        },
        "id": "nZVxj5GF4O-d",
        "outputId": "3054597d-a0b9-4588-e3a9-32e49453b847"
      },
      "execution_count": 6,
      "outputs": [
        {
          "output_type": "stream",
          "name": "stderr",
          "text": [
            "/usr/local/lib/python3.11/dist-packages/pennylane/capture/capture_operators.py:33: RuntimeWarning: PennyLane is not yet compatible with JAX versions > 0.4.28. You have version 0.5.2 installed. Please downgrade JAX to <=0.4.28 to avoid runtime errors.\n",
            "  warnings.warn(\n"
          ]
        }
      ]
    },
    {
      "cell_type": "code",
      "source": [
        "# Run to collect the results\n",
        "                              # Uses PennyLane Sim and will take long!\n",
        "\n",
        "results = {\n",
        "    'problem_size': [],\n",
        "    'gurobi_cut_sizes': [],\n",
        "    'gw_cut_sizes': [],\n",
        "    'cplex_cut_sizes': [],\n",
        "    'part_QAOA_cut_sizes': [[], [], []],\n",
        "    'edges_after_pruning': [[], [], []]\n",
        "}\n",
        "counter = 0\n",
        "for graph in all_sampled_graphs:\n",
        "    qw = quantum_solver_with_partitioning(graph)\n",
        "    cwo = classical_solvers_without_partitioning(graph)\n",
        "    results['problem_size'].append(graph.number_of_nodes())\n",
        "    results['gurobi_cut_sizes'].append(cwo[0])\n",
        "    results['gw_cut_sizes'].append(cwo[1])\n",
        "    results['cplex_cut_sizes'].append(cwo[2])\n",
        "    for i in range(3):\n",
        "        results['part_QAOA_cut_sizes'][i].append(qw[0][i])\n",
        "        results['edges_after_pruning'][i].append(qw[1][i])\n",
        "    counter += 1\n",
        "    print(counter)"
      ],
      "metadata": {
        "id": "ESMwse544ZHc"
      },
      "execution_count": null,
      "outputs": []
    },
    {
      "cell_type": "markdown",
      "source": [
        "## Comparison: Partitioned QAOA vs. Unpartitioned Classical Solvers\n",
        "\n",
        "The subsequent code block undertakes a comparative analysis of the MaxCut solution quality, specifically the size of the cut obtained through two distinct approaches:\n",
        "\n",
        "1.  **Partitioned Quantum Approximate Optimization Algorithm (QAOA):** The original constraint graph is divided into smaller subgraphs. The MaxCut problem for each subgraph is then approximately solved using the QAOA algorithm, executed on a quantum simulator (likely PennyLane, as mentioned previously). This process is repeated for graph partitions corresponding to three different qubit sizes, allowing for an assessment of how the scale of the quantum computation within each subgraph impacts the overall result.\n",
        "\n",
        "2.  **Unpartitioned Classical Solvers:** The MaxCut problem for the *entire* original graph is solved directly using classical optimization solvers. The code explicitly mentions gurobi, cplex and gw as classical solvers. Gurobi and CPLEX are commercial optimization solvers known for their efficiency in tackling mixed-integer programming problems, including MaxCut. GW refers to the Goemans-Williamson semidefinite programming relaxation-based approximation algorithm, which provides a theoretical guarantee on the approximation ratio.\n",
        "\n",
        "The primary goal of this comparison is to evaluate the trade-offs between these two strategies. The partitioned QAOA approach explores the potential benefits of leveraging near-term quantum algorithms on smaller subproblems, while the unpartitioned classical solvers represent the performance achievable with state-of-the-art classical optimization techniques on the full problem instance. By comparing the resulting cut sizes, we can gain insights into the effectiveness of the partitioned QAOA approach relative to established classical methods for the MaxCut problem."
      ],
      "metadata": {
        "id": "uQEHw0zo4i8E"
      }
    },
    {
      "cell_type": "markdown",
      "source": [
        "# Data/Plot included in Paper"
      ],
      "metadata": {
        "id": "tf2O8XEC450o"
      }
    },
    {
      "cell_type": "markdown",
      "source": [
        "## Large-Scale Partitioned QAOA vs. Goemans-Williamson (GW) for Circulant Graphs\n",
        "\n",
        "Due to the computational demands of simulating the Quantum Approximate Optimization Algorithm (QAOA) on PennyLane Simulator, even when applied to partitioned subgraphs, the process was time-intensive.\n",
        "\n",
        "To address this, the computations for the partitioned QAOA were executed in parallel, and the aggregated results are presented here specifically for circulant graph instances.\n",
        "\n",
        "The performance of this parallelized, partitioned QAOA is then compared against the results obtained using the Goemans-Williamson (GW) algorithm. The focus here is to assess the quality of the solutions obtained by the large-scale, parallelized partitioned QAOA in comparison to the theoretically grounded and practically effective GW algorithm on circulant graphs."
      ],
      "metadata": {
        "id": "JfX2O7jJ5AaP"
      }
    },
    {
      "cell_type": "code",
      "source": [
        "results = {'problem_size': [300, 500, 600, 800, 900], 'gurobi_cut_sizes': [0,0, 0,0,0], 'gw_cut_sizes': [422, 706, 1182, 1134, 1782],\n",
        "          'cplex_cut_sizes': [0, 0, 0, 0, 0], 'part_QAOA_cut_sizes': [[410, 692, 1008, 1084, 1512], [422, 710, 1088, 1130, 1600], [432, 720, 1120, 1162, 1656]],\n",
        "          'edges_after_pruning': [[0.75, 0.747, 0.6633333333333333,  0.749375, 0.6655555555555556],\n",
        "           [0.85, 0.85, 0.7933333333333333, 0.85, 0.8],\n",
        "           [0.895, 0.895, 0.86, 0.890625, 0.8577777777777778]]}"
      ],
      "metadata": {
        "id": "sPTon6_P49zp"
      },
      "execution_count": 8,
      "outputs": []
    },
    {
      "cell_type": "code",
      "source": [
        "import pandas as pd\n",
        "import numpy as np\n",
        "\n",
        "x = results['problem_size']\n",
        "y_gurobi = results['gurobi_cut_sizes']\n",
        "y_gw = results['gw_cut_sizes']\n",
        "y_cplex = results['cplex_cut_sizes']\n",
        "\n",
        "y_qaoa_small = []\n",
        "for i in range(len(results['part_QAOA_cut_sizes'][0])):\n",
        "    y_qaoa_small.append(results['part_QAOA_cut_sizes'][0][i])\n",
        "y_qaoa_small = np.array(y_qaoa_small)\n",
        "y_qaoa_mid = []\n",
        "for i in range(len(results['part_QAOA_cut_sizes'][0])):\n",
        "    y_qaoa_mid.append(results['part_QAOA_cut_sizes'][1][i])\n",
        "y_qaoa_mid = np.array(y_qaoa_mid)\n",
        "y_qaoa_large = []\n",
        "for i in range(len(results['part_QAOA_cut_sizes'][0])):\n",
        "    y_qaoa_large.append(results['part_QAOA_cut_sizes'][2][i])\n",
        "y_qaoa_large = np.array(y_qaoa_large)\n",
        "\n",
        "y_edges_small = []\n",
        "for i in range(len(results['edges_after_pruning'][0])):\n",
        "    y_edges_small.append(results['edges_after_pruning'][0][i])\n",
        "y_edges_small = np.array(y_edges_small)\n",
        "\n",
        "y_edges_mid = []\n",
        "for i in range(len(results['edges_after_pruning'][1])):\n",
        "    y_edges_mid.append(results['edges_after_pruning'][1][i])\n",
        "y_edges_mid = np.array(y_edges_mid)\n",
        "\n",
        "y_edges_large = []\n",
        "for i in range(len(results['edges_after_pruning'][2])):\n",
        "    y_edges_large.append(results['edges_after_pruning'][2][i])\n",
        "y_edges_large = np.array(y_edges_large)\n",
        "\n",
        "df = pd.DataFrame({\n",
        "    'Problem Size': x,\n",
        "    'Gurobi Cut Sizes': y_gurobi,\n",
        "    'GW Cut Sizes': y_gw,\n",
        "    'CPLEX Cut Sizes': y_cplex,\n",
        "    'QAOA Small Cut Sizes': y_qaoa_small,\n",
        "    'QAOA Mid Cut Sizes': y_qaoa_mid,\n",
        "    'QAOA Large Cut Sizes': y_qaoa_large,\n",
        "    'Edges Small': y_edges_small,\n",
        "    'Edges Mid': y_edges_mid,\n",
        "    'Edges Large': y_edges_large\n",
        "})\n",
        "\n",
        "df_sorted = df.sort_values(by='Problem Size')\n",
        "#df_sorted = df_sorted[df_sorted['Problem Size'] < 75]"
      ],
      "metadata": {
        "id": "ppbzhQvR5C1v"
      },
      "execution_count": 9,
      "outputs": []
    },
    {
      "cell_type": "code",
      "source": [
        "import matplotlib.pyplot as plt\n",
        "\n",
        "plt.figure(figsize=(10, 6))\n",
        "\n",
        "plt.scatter(df_sorted['Problem Size'], df_sorted['GW Cut Sizes'], label='Goemans-Williamson', marker='o', color='red')\n",
        "\n",
        "plt.scatter(df_sorted['Problem Size'], df_sorted['QAOA Small Cut Sizes'], label='QAOA 6 qubit', marker='^', color='blue')\n",
        "plt.scatter(df_sorted['Problem Size'], df_sorted['QAOA Mid Cut Sizes'], label='QAOA 10 qubit', marker='^', color='purple')\n",
        "plt.scatter(df_sorted['Problem Size'], df_sorted['QAOA Large Cut Sizes'], label='QAOA 14 qubit', marker='^', color='violet')\n",
        "\n",
        "\n",
        "plt.xlabel('Problem Size')\n",
        "plt.ylabel('Output Value')\n",
        "plt.title('Comparison of Cut Sizes')\n",
        "plt.legend()\n",
        "plt.grid(True)"
      ],
      "metadata": {
        "colab": {
          "base_uri": "https://localhost:8080/",
          "height": 417
        },
        "id": "9YZwLbU35I07",
        "outputId": "6dbe6c3d-a5d8-4ca5-8d6a-13285e00e338"
      },
      "execution_count": 10,
      "outputs": [
        {
          "output_type": "display_data",
          "data": {
            "text/plain": [
              "<Figure size 1000x600 with 1 Axes>"
            ],
            "image/png": "[encoded data removed]"
          },
          "metadata": {}
        }
      ]
    }
  ]
}
